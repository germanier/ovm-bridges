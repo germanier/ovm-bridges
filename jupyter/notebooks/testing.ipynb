{
 "cells": [
  {
   "cell_type": "code",
   "execution_count": 36,
   "metadata": {},
   "outputs": [],
   "source": [
    "import os\n",
    "from chainbase_sdk.sql_alpha import ChainbaseSQLAlpha\n",
    "\n",
    "CHAINBASE_API_KEY=os.environ['CHAINBASE_API_KEY']"
   ]
  },
  {
   "cell_type": "code",
   "execution_count": 37,
   "metadata": {},
   "outputs": [],
   "source": [
    "client = ChainbaseSQLAlpha(api_key=CHAINBASE_API_KEY)"
   ]
  },
  {
   "cell_type": "code",
   "execution_count": 38,
   "metadata": {},
   "outputs": [],
   "source": [
    "def withdrawal_initiated(client, chain):\n",
    "    query = f\"\"\"\n",
    "    SELECT \n",
    "        block_number, \n",
    "        block_timestamp, \n",
    "        transaction_hash, \n",
    "        'SentMessage' AS event, \n",
    "        signature,\n",
    "        CAST(decoded AS JSON) -> '$[0]' AS nonce,\n",
    "        CAST(decoded AS JSON) -> '$[1]' AS sender,\n",
    "        CAST(decoded AS JSON) -> '$[2]' AS target,\n",
    "        CAST(decoded AS JSON) -> '$[3]' AS value,\n",
    "        CAST(decoded AS JSON) -> '$[6]' AS withdrawal_hash\n",
    "    FROM \n",
    "        {chain}.transaction_logs_decoded\n",
    "    WHERE \n",
    "        contract_address = '0x4200000000000000000000000000000000000016'\n",
    "        and CAST(decoded AS JSON) -> '$[3]' <> 0\n",
    "    \"\"\"\n",
    "\n",
    "    df_l2_withdrawal_initiated = client.query_pandas(query)\n",
    "\n",
    "    return df_l2_withdrawal_initiated"
   ]
  },
  {
   "cell_type": "code",
   "execution_count": 39,
   "metadata": {},
   "outputs": [],
   "source": [
    "def withdrawal_proven(client, contract_address):\n",
    "    query = f\"\"\"\n",
    "    SELECT \n",
    "        block_number, \n",
    "        block_timestamp, \n",
    "        transaction_hash, \n",
    "        method_id, \n",
    "        'WithdrawalProven' AS event, \n",
    "        signature, \n",
    "        CAST(decoded AS JSON) -> '$[0]' AS withdrawalHash \n",
    "    FROM \n",
    "        ethereum.transaction_logs_decoded \n",
    "    WHERE \n",
    "        contract_address = 'f{contract_address}' \n",
    "        AND method_id = '0x67a6208cfcc0801d50f6cbe764733f4fddf66ac0b04442061a8a8c0cb6b63f62' -- WithdrawalProven\n",
    "    \"\"\"\n",
    "\n",
    "    df_l1_proven = client.query_pandas(query)\n",
    "\n",
    "    return df_l1_proven"
   ]
  },
  {
   "cell_type": "code",
   "execution_count": 40,
   "metadata": {},
   "outputs": [],
   "source": [
    "def withdrawal_finalized(client, contract_address):\n",
    "    query = f\"\"\"\n",
    "    SELECT \n",
    "        block_number, \n",
    "        block_timestamp, \n",
    "        transaction_hash, \n",
    "        method_id, \n",
    "        'WithdrawalFinalized' AS event, \n",
    "        signature, \n",
    "        CAST(decoded AS JSON) -> '$[0]' AS withdrawalHash \n",
    "    FROM \n",
    "        ethereum.transaction_logs_decoded \n",
    "    WHERE \n",
    "        contract_address = 'f{contract_address}' \n",
    "        AND method_id = '0xdb5c7652857aa163daadd670e116628fb42e869d8ac4251ef8971d9e5727df1b' -- WithdrawalFinalized\n",
    "    \"\"\"\n",
    "\n",
    "    df_l1_finalized = client.query_pandas(query)\n",
    "\n",
    "    return df_l1_finalized"
   ]
  },
  {
   "cell_type": "code",
   "execution_count": 41,
   "metadata": {},
   "outputs": [],
   "source": [
    "def deposit(client, contract_address):\n",
    "    query = f\"\"\"\n",
    "    SELECT \n",
    "        block_number, \n",
    "        block_timestamp, \n",
    "        transaction_hash, \n",
    "        method_id, \n",
    "        'TransactionDeposited' AS event, \n",
    "        signature, \n",
    "        CAST(decoded AS JSON) -> '$[0]' AS sender,\n",
    "        CAST(decoded AS JSON) -> '$[1]' AS target,\n",
    "        CONV(SUBSTR(CAST(decoded AS JSON) -> '$[3]', 3, 64), 16, 10) AS msg_value\n",
    "    FROM \n",
    "        ethereum.transaction_logs_decoded \n",
    "    WHERE \n",
    "        contract_address = '{contract_address}' \n",
    "        AND method_id = '0xb3813568d9991fc951961fcb4c784893574240a28925604d09fc577c55bb7c32' -- TransactionDeposited\n",
    "        AND CONV(SUBSTR(CAST(decoded AS JSON) -> '$[3]', 3, 64), 16, 10) <> 0 -- exclude zero value messages\n",
    "    \"\"\"\n",
    "    df_deposit = client.query_pandas(query)\n",
    "\n",
    "    return df_deposit"
   ]
  },
  {
   "cell_type": "code",
   "execution_count": 42,
   "metadata": {},
   "outputs": [
    {
     "name": "stdout",
     "output_type": "stream",
     "text": [
      "NOT EXISTS:  CHAR\n",
      "NOT EXISTS:  CHAR\n",
      "NOT EXISTS:  CHAR\n",
      "NOT EXISTS:  CHAR\n",
      "NOT EXISTS:  CHAR\n"
     ]
    }
   ],
   "source": [
    "base_withdrawals_started = withdrawal_initiated(client=client, chain='base')"
   ]
  },
  {
   "cell_type": "code",
   "execution_count": 43,
   "metadata": {},
   "outputs": [
    {
     "name": "stdout",
     "output_type": "stream",
     "text": [
      "NOT EXISTS:  CHAR\n"
     ]
    }
   ],
   "source": [
    "base_withdrawal_proven = withdrawal_proven(client=client, contract_address='0x49048044d57e1c92a77f79988d21fa8faf74e97e')"
   ]
  },
  {
   "cell_type": "code",
   "execution_count": 44,
   "metadata": {},
   "outputs": [
    {
     "name": "stdout",
     "output_type": "stream",
     "text": [
      "NOT EXISTS:  CHAR\n"
     ]
    }
   ],
   "source": [
    "base_withdrawal_finalized = withdrawal_finalized(client=client, contract_address='0x49048044d57e1c92a77f79988d21fa8faf74e97e')"
   ]
  },
  {
   "cell_type": "code",
   "execution_count": 45,
   "metadata": {},
   "outputs": [
    {
     "name": "stdout",
     "output_type": "stream",
     "text": [
      "NOT EXISTS:  CHAR\n",
      "NOT EXISTS:  CHAR\n"
     ]
    }
   ],
   "source": [
    "base_deposits = deposit(client=client, contract_address='0x49048044d57e1c92a77f79988d21fa8faf74e97e')"
   ]
  }
 ],
 "metadata": {
  "kernelspec": {
   "display_name": "ovm-bridges-B1QcNvNl-py3.12",
   "language": "python",
   "name": "python3"
  },
  "language_info": {
   "codemirror_mode": {
    "name": "ipython",
    "version": 3
   },
   "file_extension": ".py",
   "mimetype": "text/x-python",
   "name": "python",
   "nbconvert_exporter": "python",
   "pygments_lexer": "ipython3",
   "version": "3.12.2"
  }
 },
 "nbformat": 4,
 "nbformat_minor": 2
}
